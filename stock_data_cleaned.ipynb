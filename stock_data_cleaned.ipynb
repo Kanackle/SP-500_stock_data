{
 "cells": [
  {
   "cell_type": "markdown",
   "id": "a316159f",
   "metadata": {},
   "source": [
    "Cleaning Data for visualizations"
   ]
  },
  {
   "cell_type": "code",
   "execution_count": 17,
   "id": "a106ef34",
   "metadata": {},
   "outputs": [],
   "source": [
    "#Importing libraries\n",
    "import pandas as pd\n",
    "import matplotlib.pyplot as plt"
   ]
  },
  {
   "cell_type": "code",
   "execution_count": 18,
   "id": "ac6ef6e8",
   "metadata": {},
   "outputs": [
    {
     "data": {
      "text/html": [
       "<div>\n",
       "<style scoped>\n",
       "    .dataframe tbody tr th:only-of-type {\n",
       "        vertical-align: middle;\n",
       "    }\n",
       "\n",
       "    .dataframe tbody tr th {\n",
       "        vertical-align: top;\n",
       "    }\n",
       "\n",
       "    .dataframe thead th {\n",
       "        text-align: right;\n",
       "    }\n",
       "</style>\n",
       "<table border=\"1\" class=\"dataframe\">\n",
       "  <thead>\n",
       "    <tr style=\"text-align: right;\">\n",
       "      <th></th>\n",
       "      <th>Date</th>\n",
       "      <th>Symbol</th>\n",
       "      <th>Adj Close</th>\n",
       "      <th>Close</th>\n",
       "      <th>High</th>\n",
       "      <th>Low</th>\n",
       "      <th>Open</th>\n",
       "      <th>Volume</th>\n",
       "    </tr>\n",
       "  </thead>\n",
       "  <tbody>\n",
       "    <tr>\n",
       "      <th>0</th>\n",
       "      <td>2022-12-30</td>\n",
       "      <td>ADBE</td>\n",
       "      <td>336.529999</td>\n",
       "      <td>336.529999</td>\n",
       "      <td>336.640015</td>\n",
       "      <td>331.640015</td>\n",
       "      <td>333.000000</td>\n",
       "      <td>1740300.0</td>\n",
       "    </tr>\n",
       "    <tr>\n",
       "      <th>1</th>\n",
       "      <td>2022-12-30</td>\n",
       "      <td>MO</td>\n",
       "      <td>45.709999</td>\n",
       "      <td>45.709999</td>\n",
       "      <td>45.990002</td>\n",
       "      <td>45.419998</td>\n",
       "      <td>45.860001</td>\n",
       "      <td>5025200.0</td>\n",
       "    </tr>\n",
       "    <tr>\n",
       "      <th>2</th>\n",
       "      <td>2022-12-30</td>\n",
       "      <td>AMZN</td>\n",
       "      <td>84.000000</td>\n",
       "      <td>84.000000</td>\n",
       "      <td>84.050003</td>\n",
       "      <td>82.470001</td>\n",
       "      <td>83.120003</td>\n",
       "      <td>62330000.0</td>\n",
       "    </tr>\n",
       "    <tr>\n",
       "      <th>3</th>\n",
       "      <td>2022-12-30</td>\n",
       "      <td>AMD</td>\n",
       "      <td>64.769997</td>\n",
       "      <td>64.769997</td>\n",
       "      <td>64.820000</td>\n",
       "      <td>63.139999</td>\n",
       "      <td>63.770000</td>\n",
       "      <td>37099800.0</td>\n",
       "    </tr>\n",
       "    <tr>\n",
       "      <th>4</th>\n",
       "      <td>2022-12-30</td>\n",
       "      <td>AAL</td>\n",
       "      <td>12.720000</td>\n",
       "      <td>12.720000</td>\n",
       "      <td>12.830000</td>\n",
       "      <td>12.530000</td>\n",
       "      <td>12.550000</td>\n",
       "      <td>18976200.0</td>\n",
       "    </tr>\n",
       "    <tr>\n",
       "      <th>5</th>\n",
       "      <td>2022-12-30</td>\n",
       "      <td>AAPL</td>\n",
       "      <td>129.929993</td>\n",
       "      <td>129.929993</td>\n",
       "      <td>129.949997</td>\n",
       "      <td>127.430000</td>\n",
       "      <td>128.410004</td>\n",
       "      <td>76960600.0</td>\n",
       "    </tr>\n",
       "    <tr>\n",
       "      <th>6</th>\n",
       "      <td>2022-12-30</td>\n",
       "      <td>T</td>\n",
       "      <td>18.410000</td>\n",
       "      <td>18.410000</td>\n",
       "      <td>18.480000</td>\n",
       "      <td>18.219999</td>\n",
       "      <td>18.420000</td>\n",
       "      <td>26200800.0</td>\n",
       "    </tr>\n",
       "    <tr>\n",
       "      <th>7</th>\n",
       "      <td>2022-12-30</td>\n",
       "      <td>BLK</td>\n",
       "      <td>708.630005</td>\n",
       "      <td>708.630005</td>\n",
       "      <td>712.909973</td>\n",
       "      <td>698.359985</td>\n",
       "      <td>708.289978</td>\n",
       "      <td>413000.0</td>\n",
       "    </tr>\n",
       "    <tr>\n",
       "      <th>8</th>\n",
       "      <td>2022-12-30</td>\n",
       "      <td>EA</td>\n",
       "      <td>122.180000</td>\n",
       "      <td>122.180000</td>\n",
       "      <td>122.330002</td>\n",
       "      <td>120.790001</td>\n",
       "      <td>121.779999</td>\n",
       "      <td>1164400.0</td>\n",
       "    </tr>\n",
       "    <tr>\n",
       "      <th>9</th>\n",
       "      <td>2022-12-30</td>\n",
       "      <td>EQIX</td>\n",
       "      <td>655.030029</td>\n",
       "      <td>655.030029</td>\n",
       "      <td>665.349976</td>\n",
       "      <td>648.229981</td>\n",
       "      <td>659.359985</td>\n",
       "      <td>268500.0</td>\n",
       "    </tr>\n",
       "  </tbody>\n",
       "</table>\n",
       "</div>"
      ],
      "text/plain": [
       "        Date Symbol   Adj Close       Close        High         Low  \\\n",
       "0 2022-12-30   ADBE  336.529999  336.529999  336.640015  331.640015   \n",
       "1 2022-12-30     MO   45.709999   45.709999   45.990002   45.419998   \n",
       "2 2022-12-30   AMZN   84.000000   84.000000   84.050003   82.470001   \n",
       "3 2022-12-30    AMD   64.769997   64.769997   64.820000   63.139999   \n",
       "4 2022-12-30    AAL   12.720000   12.720000   12.830000   12.530000   \n",
       "5 2022-12-30   AAPL  129.929993  129.929993  129.949997  127.430000   \n",
       "6 2022-12-30      T   18.410000   18.410000   18.480000   18.219999   \n",
       "7 2022-12-30    BLK  708.630005  708.630005  712.909973  698.359985   \n",
       "8 2022-12-30     EA  122.180000  122.180000  122.330002  120.790001   \n",
       "9 2022-12-30   EQIX  655.030029  655.030029  665.349976  648.229981   \n",
       "\n",
       "         Open      Volume  \n",
       "0  333.000000   1740300.0  \n",
       "1   45.860001   5025200.0  \n",
       "2   83.120003  62330000.0  \n",
       "3   63.770000  37099800.0  \n",
       "4   12.550000  18976200.0  \n",
       "5  128.410004  76960600.0  \n",
       "6   18.420000  26200800.0  \n",
       "7  708.289978    413000.0  \n",
       "8  121.779999   1164400.0  \n",
       "9  659.359985    268500.0  "
      ]
     },
     "execution_count": 18,
     "metadata": {},
     "output_type": "execute_result"
    }
   ],
   "source": [
    "#importing stock data \n",
    "\n",
    "stock_data_df = pd.read_excel('Random 20 S&P500 Stock Data.xlsx')\n",
    "stock_data_df.head(10)"
   ]
  },
  {
   "cell_type": "code",
   "execution_count": 19,
   "id": "64e8eee9",
   "metadata": {},
   "outputs": [
    {
     "data": {
      "text/html": [
       "<div>\n",
       "<style scoped>\n",
       "    .dataframe tbody tr th:only-of-type {\n",
       "        vertical-align: middle;\n",
       "    }\n",
       "\n",
       "    .dataframe tbody tr th {\n",
       "        vertical-align: top;\n",
       "    }\n",
       "\n",
       "    .dataframe thead th {\n",
       "        text-align: right;\n",
       "    }\n",
       "</style>\n",
       "<table border=\"1\" class=\"dataframe\">\n",
       "  <thead>\n",
       "    <tr style=\"text-align: right;\">\n",
       "      <th></th>\n",
       "      <th>Exchange</th>\n",
       "      <th>Symbol</th>\n",
       "      <th>Shortname</th>\n",
       "      <th>Sector</th>\n",
       "    </tr>\n",
       "  </thead>\n",
       "  <tbody>\n",
       "    <tr>\n",
       "      <th>0</th>\n",
       "      <td>NMS</td>\n",
       "      <td>AAPL</td>\n",
       "      <td>Apple Inc.</td>\n",
       "      <td>Technology</td>\n",
       "    </tr>\n",
       "    <tr>\n",
       "      <th>1</th>\n",
       "      <td>NMS</td>\n",
       "      <td>MSFT</td>\n",
       "      <td>Microsoft Corporation</td>\n",
       "      <td>Technology</td>\n",
       "    </tr>\n",
       "    <tr>\n",
       "      <th>2</th>\n",
       "      <td>NMS</td>\n",
       "      <td>GOOG</td>\n",
       "      <td>Alphabet Inc.</td>\n",
       "      <td>Communication Services</td>\n",
       "    </tr>\n",
       "    <tr>\n",
       "      <th>3</th>\n",
       "      <td>NMS</td>\n",
       "      <td>GOOGL</td>\n",
       "      <td>Alphabet Inc.</td>\n",
       "      <td>Communication Services</td>\n",
       "    </tr>\n",
       "    <tr>\n",
       "      <th>4</th>\n",
       "      <td>NMS</td>\n",
       "      <td>AMZN</td>\n",
       "      <td>Amazon.com, Inc.</td>\n",
       "      <td>Consumer Cyclical</td>\n",
       "    </tr>\n",
       "  </tbody>\n",
       "</table>\n",
       "</div>"
      ],
      "text/plain": [
       "  Exchange Symbol              Shortname                  Sector\n",
       "0      NMS   AAPL             Apple Inc.              Technology\n",
       "1      NMS   MSFT  Microsoft Corporation              Technology\n",
       "2      NMS   GOOG          Alphabet Inc.  Communication Services\n",
       "3      NMS  GOOGL          Alphabet Inc.  Communication Services\n",
       "4      NMS   AMZN       Amazon.com, Inc.       Consumer Cyclical"
      ]
     },
     "execution_count": 19,
     "metadata": {},
     "output_type": "execute_result"
    }
   ],
   "source": [
    "#importing company data\n",
    "company_data_df = pd.read_csv(\"sp500_companies.csv\")\n",
    "company_data_df.head()"
   ]
  },
  {
   "cell_type": "code",
   "execution_count": 20,
   "id": "09d47ce8",
   "metadata": {},
   "outputs": [],
   "source": [
    "# To Do:\n",
    "# check column\n",
    "# check for NAN values\n",
    "# check data types for columns \n",
    "# in stock data df \n",
    "# drop adjusted close\n",
    "# timeline of volume performance\n",
    "# in company data cut down to 20 stocks check sector and industries to see how many times represented\n",
    "#in company data drop ebitda,marketcap,Marketcap,Ebitda\tRevenuegrowth,City,State,Country,Fulltimeemployees,Longbusinesssummary,Weigh\n"
   ]
  },
  {
   "cell_type": "code",
   "execution_count": 21,
   "id": "7103a650",
   "metadata": {},
   "outputs": [
    {
     "data": {
      "text/html": [
       "<div>\n",
       "<style scoped>\n",
       "    .dataframe tbody tr th:only-of-type {\n",
       "        vertical-align: middle;\n",
       "    }\n",
       "\n",
       "    .dataframe tbody tr th {\n",
       "        vertical-align: top;\n",
       "    }\n",
       "\n",
       "    .dataframe thead th {\n",
       "        text-align: right;\n",
       "    }\n",
       "</style>\n",
       "<table border=\"1\" class=\"dataframe\">\n",
       "  <thead>\n",
       "    <tr style=\"text-align: right;\">\n",
       "      <th></th>\n",
       "      <th>Date</th>\n",
       "      <th>Symbol</th>\n",
       "      <th>Adj Close</th>\n",
       "      <th>Close</th>\n",
       "      <th>High</th>\n",
       "      <th>Low</th>\n",
       "      <th>Open</th>\n",
       "      <th>Volume</th>\n",
       "    </tr>\n",
       "  </thead>\n",
       "  <tbody>\n",
       "    <tr>\n",
       "      <th>0</th>\n",
       "      <td>2022-12-30</td>\n",
       "      <td>ADBE</td>\n",
       "      <td>336.529999</td>\n",
       "      <td>336.529999</td>\n",
       "      <td>336.640015</td>\n",
       "      <td>331.640015</td>\n",
       "      <td>333.000000</td>\n",
       "      <td>1740300.0</td>\n",
       "    </tr>\n",
       "    <tr>\n",
       "      <th>1</th>\n",
       "      <td>2022-12-30</td>\n",
       "      <td>MO</td>\n",
       "      <td>45.709999</td>\n",
       "      <td>45.709999</td>\n",
       "      <td>45.990002</td>\n",
       "      <td>45.419998</td>\n",
       "      <td>45.860001</td>\n",
       "      <td>5025200.0</td>\n",
       "    </tr>\n",
       "    <tr>\n",
       "      <th>2</th>\n",
       "      <td>2022-12-30</td>\n",
       "      <td>AMZN</td>\n",
       "      <td>84.000000</td>\n",
       "      <td>84.000000</td>\n",
       "      <td>84.050003</td>\n",
       "      <td>82.470001</td>\n",
       "      <td>83.120003</td>\n",
       "      <td>62330000.0</td>\n",
       "    </tr>\n",
       "    <tr>\n",
       "      <th>3</th>\n",
       "      <td>2022-12-30</td>\n",
       "      <td>AMD</td>\n",
       "      <td>64.769997</td>\n",
       "      <td>64.769997</td>\n",
       "      <td>64.820000</td>\n",
       "      <td>63.139999</td>\n",
       "      <td>63.770000</td>\n",
       "      <td>37099800.0</td>\n",
       "    </tr>\n",
       "    <tr>\n",
       "      <th>4</th>\n",
       "      <td>2022-12-30</td>\n",
       "      <td>AAL</td>\n",
       "      <td>12.720000</td>\n",
       "      <td>12.720000</td>\n",
       "      <td>12.830000</td>\n",
       "      <td>12.530000</td>\n",
       "      <td>12.550000</td>\n",
       "      <td>18976200.0</td>\n",
       "    </tr>\n",
       "  </tbody>\n",
       "</table>\n",
       "</div>"
      ],
      "text/plain": [
       "        Date Symbol   Adj Close       Close        High         Low  \\\n",
       "0 2022-12-30   ADBE  336.529999  336.529999  336.640015  331.640015   \n",
       "1 2022-12-30     MO   45.709999   45.709999   45.990002   45.419998   \n",
       "2 2022-12-30   AMZN   84.000000   84.000000   84.050003   82.470001   \n",
       "3 2022-12-30    AMD   64.769997   64.769997   64.820000   63.139999   \n",
       "4 2022-12-30    AAL   12.720000   12.720000   12.830000   12.530000   \n",
       "\n",
       "         Open      Volume  \n",
       "0  333.000000   1740300.0  \n",
       "1   45.860001   5025200.0  \n",
       "2   83.120003  62330000.0  \n",
       "3   63.770000  37099800.0  \n",
       "4   12.550000  18976200.0  "
      ]
     },
     "execution_count": 21,
     "metadata": {},
     "output_type": "execute_result"
    }
   ],
   "source": [
    "#stock data clean up\n",
    "stock_data_df.head()"
   ]
  },
  {
   "cell_type": "code",
   "execution_count": 22,
   "id": "ff345792",
   "metadata": {},
   "outputs": [
    {
     "data": {
      "text/plain": [
       "Date         datetime64[ns]\n",
       "Symbol               object\n",
       "Adj Close           float64\n",
       "Close               float64\n",
       "High                float64\n",
       "Low                 float64\n",
       "Open                float64\n",
       "Volume              float64\n",
       "dtype: object"
      ]
     },
     "execution_count": 22,
     "metadata": {},
     "output_type": "execute_result"
    }
   ],
   "source": [
    "#checking data types\n",
    "stock_data_df.dtypes"
   ]
  },
  {
   "cell_type": "code",
   "execution_count": 23,
   "id": "d1c666fd",
   "metadata": {},
   "outputs": [
    {
     "data": {
      "text/plain": [
       "Date           0\n",
       "Symbol         0\n",
       "Adj Close    825\n",
       "Close        825\n",
       "High         825\n",
       "Low          825\n",
       "Open         825\n",
       "Volume       825\n",
       "dtype: int64"
      ]
     },
     "execution_count": 23,
     "metadata": {},
     "output_type": "execute_result"
    }
   ],
   "source": [
    "#checking for nan values\n",
    "stock_data_df.isnull().sum()"
   ]
  },
  {
   "cell_type": "code",
   "execution_count": 24,
   "id": "645b7e99",
   "metadata": {},
   "outputs": [],
   "source": [
    "#Null values confirmed as spacing. Dropping null values\n",
    "stock_data_df.dropna(inplace=True)"
   ]
  },
  {
   "cell_type": "code",
   "execution_count": 25,
   "id": "d1e66b0b",
   "metadata": {},
   "outputs": [
    {
     "data": {
      "text/plain": [
       "Date         0\n",
       "Symbol       0\n",
       "Adj Close    0\n",
       "Close        0\n",
       "High         0\n",
       "Low          0\n",
       "Open         0\n",
       "Volume       0\n",
       "dtype: int64"
      ]
     },
     "execution_count": 25,
     "metadata": {},
     "output_type": "execute_result"
    }
   ],
   "source": [
    "stock_data_df.isnull().sum()"
   ]
  },
  {
   "cell_type": "code",
   "execution_count": 26,
   "id": "c20f5746",
   "metadata": {
    "scrolled": true
   },
   "outputs": [
    {
     "data": {
      "text/plain": [
       "array(['ADBE', 'MO', 'AMZN', 'AMD', 'AAL', 'AAPL', 'T', 'BLK', 'EA',\n",
       "       'EQIX', 'ETSY', 'F', 'GD', 'GPN', 'GS', 'HCA', 'HSY', 'IBM', 'JPM',\n",
       "       'MU'], dtype=object)"
      ]
     },
     "execution_count": 26,
     "metadata": {},
     "output_type": "execute_result"
    }
   ],
   "source": [
    "#checking symbol unique values\n",
    "stock_data_df[\"Symbol\"].unique()"
   ]
  },
  {
   "cell_type": "code",
   "execution_count": 27,
   "id": "6d672912",
   "metadata": {},
   "outputs": [],
   "source": [
    "#dropping Adj Close column\n",
    "stock_data_df = stock_data_df.drop(\"Adj Close\",axis=1)"
   ]
  },
  {
   "cell_type": "code",
   "execution_count": 29,
   "id": "9e9ddd35",
   "metadata": {},
   "outputs": [
    {
     "data": {
      "text/plain": [
       "Date      datetime64[ns]\n",
       "Symbol            object\n",
       "Close            float64\n",
       "High             float64\n",
       "Low              float64\n",
       "Open             float64\n",
       "Volume           float64\n",
       "dtype: object"
      ]
     },
     "execution_count": 29,
     "metadata": {},
     "output_type": "execute_result"
    }
   ],
   "source": [
    "# Converting the Date column to datetime method\n",
    "stock_data_df['Date'] = pd.to_datetime(stock_data_df['Date'])\n",
    "stock_data_df.dtypes"
   ]
  },
  {
   "cell_type": "code",
   "execution_count": 30,
   "id": "b1c8bca8",
   "metadata": {},
   "outputs": [
    {
     "data": {
      "text/html": [
       "<div>\n",
       "<style scoped>\n",
       "    .dataframe tbody tr th:only-of-type {\n",
       "        vertical-align: middle;\n",
       "    }\n",
       "\n",
       "    .dataframe tbody tr th {\n",
       "        vertical-align: top;\n",
       "    }\n",
       "\n",
       "    .dataframe thead th {\n",
       "        text-align: right;\n",
       "    }\n",
       "</style>\n",
       "<table border=\"1\" class=\"dataframe\">\n",
       "  <thead>\n",
       "    <tr style=\"text-align: right;\">\n",
       "      <th></th>\n",
       "      <th>Date</th>\n",
       "      <th>Symbol</th>\n",
       "      <th>Close</th>\n",
       "      <th>High</th>\n",
       "      <th>Low</th>\n",
       "      <th>Open</th>\n",
       "      <th>Volume</th>\n",
       "    </tr>\n",
       "  </thead>\n",
       "  <tbody>\n",
       "    <tr>\n",
       "      <th>0</th>\n",
       "      <td>2022-12-30</td>\n",
       "      <td>ADBE</td>\n",
       "      <td>336.529999</td>\n",
       "      <td>336.640015</td>\n",
       "      <td>331.640015</td>\n",
       "      <td>333.000000</td>\n",
       "      <td>1740300.0</td>\n",
       "    </tr>\n",
       "    <tr>\n",
       "      <th>1</th>\n",
       "      <td>2022-12-30</td>\n",
       "      <td>MO</td>\n",
       "      <td>45.709999</td>\n",
       "      <td>45.990002</td>\n",
       "      <td>45.419998</td>\n",
       "      <td>45.860001</td>\n",
       "      <td>5025200.0</td>\n",
       "    </tr>\n",
       "    <tr>\n",
       "      <th>2</th>\n",
       "      <td>2022-12-30</td>\n",
       "      <td>AMZN</td>\n",
       "      <td>84.000000</td>\n",
       "      <td>84.050003</td>\n",
       "      <td>82.470001</td>\n",
       "      <td>83.120003</td>\n",
       "      <td>62330000.0</td>\n",
       "    </tr>\n",
       "    <tr>\n",
       "      <th>3</th>\n",
       "      <td>2022-12-30</td>\n",
       "      <td>AMD</td>\n",
       "      <td>64.769997</td>\n",
       "      <td>64.820000</td>\n",
       "      <td>63.139999</td>\n",
       "      <td>63.770000</td>\n",
       "      <td>37099800.0</td>\n",
       "    </tr>\n",
       "    <tr>\n",
       "      <th>4</th>\n",
       "      <td>2022-12-30</td>\n",
       "      <td>AAL</td>\n",
       "      <td>12.720000</td>\n",
       "      <td>12.830000</td>\n",
       "      <td>12.530000</td>\n",
       "      <td>12.550000</td>\n",
       "      <td>18976200.0</td>\n",
       "    </tr>\n",
       "  </tbody>\n",
       "</table>\n",
       "</div>"
      ],
      "text/plain": [
       "        Date Symbol       Close        High         Low        Open  \\\n",
       "0 2022-12-30   ADBE  336.529999  336.640015  331.640015  333.000000   \n",
       "1 2022-12-30     MO   45.709999   45.990002   45.419998   45.860001   \n",
       "2 2022-12-30   AMZN   84.000000   84.050003   82.470001   83.120003   \n",
       "3 2022-12-30    AMD   64.769997   64.820000   63.139999   63.770000   \n",
       "4 2022-12-30    AAL   12.720000   12.830000   12.530000   12.550000   \n",
       "\n",
       "       Volume  \n",
       "0   1740300.0  \n",
       "1   5025200.0  \n",
       "2  62330000.0  \n",
       "3  37099800.0  \n",
       "4  18976200.0  "
      ]
     },
     "execution_count": 30,
     "metadata": {},
     "output_type": "execute_result"
    }
   ],
   "source": [
    "stock_data_df.head()"
   ]
  },
  {
   "cell_type": "code",
   "execution_count": 31,
   "id": "ba6235a8",
   "metadata": {
    "scrolled": true
   },
   "outputs": [
    {
     "data": {
      "text/html": [
       "<div>\n",
       "<style scoped>\n",
       "    .dataframe tbody tr th:only-of-type {\n",
       "        vertical-align: middle;\n",
       "    }\n",
       "\n",
       "    .dataframe tbody tr th {\n",
       "        vertical-align: top;\n",
       "    }\n",
       "\n",
       "    .dataframe thead th {\n",
       "        text-align: right;\n",
       "    }\n",
       "</style>\n",
       "<table border=\"1\" class=\"dataframe\">\n",
       "  <thead>\n",
       "    <tr style=\"text-align: right;\">\n",
       "      <th></th>\n",
       "      <th>Exchange</th>\n",
       "      <th>Symbol</th>\n",
       "      <th>Shortname</th>\n",
       "      <th>Sector</th>\n",
       "    </tr>\n",
       "  </thead>\n",
       "  <tbody>\n",
       "    <tr>\n",
       "      <th>0</th>\n",
       "      <td>NMS</td>\n",
       "      <td>AAPL</td>\n",
       "      <td>Apple Inc.</td>\n",
       "      <td>Technology</td>\n",
       "    </tr>\n",
       "    <tr>\n",
       "      <th>1</th>\n",
       "      <td>NMS</td>\n",
       "      <td>MSFT</td>\n",
       "      <td>Microsoft Corporation</td>\n",
       "      <td>Technology</td>\n",
       "    </tr>\n",
       "    <tr>\n",
       "      <th>2</th>\n",
       "      <td>NMS</td>\n",
       "      <td>GOOG</td>\n",
       "      <td>Alphabet Inc.</td>\n",
       "      <td>Communication Services</td>\n",
       "    </tr>\n",
       "    <tr>\n",
       "      <th>3</th>\n",
       "      <td>NMS</td>\n",
       "      <td>GOOGL</td>\n",
       "      <td>Alphabet Inc.</td>\n",
       "      <td>Communication Services</td>\n",
       "    </tr>\n",
       "    <tr>\n",
       "      <th>4</th>\n",
       "      <td>NMS</td>\n",
       "      <td>AMZN</td>\n",
       "      <td>Amazon.com, Inc.</td>\n",
       "      <td>Consumer Cyclical</td>\n",
       "    </tr>\n",
       "  </tbody>\n",
       "</table>\n",
       "</div>"
      ],
      "text/plain": [
       "  Exchange Symbol              Shortname                  Sector\n",
       "0      NMS   AAPL             Apple Inc.              Technology\n",
       "1      NMS   MSFT  Microsoft Corporation              Technology\n",
       "2      NMS   GOOG          Alphabet Inc.  Communication Services\n",
       "3      NMS  GOOGL          Alphabet Inc.  Communication Services\n",
       "4      NMS   AMZN       Amazon.com, Inc.       Consumer Cyclical"
      ]
     },
     "execution_count": 31,
     "metadata": {},
     "output_type": "execute_result"
    }
   ],
   "source": [
    "#dropping company data colummns\n",
    "company_data_df.head()"
   ]
  },
  {
   "cell_type": "code",
   "execution_count": 32,
   "id": "c9998eec",
   "metadata": {},
   "outputs": [
    {
     "data": {
      "text/html": [
       "<div>\n",
       "<style scoped>\n",
       "    .dataframe tbody tr th:only-of-type {\n",
       "        vertical-align: middle;\n",
       "    }\n",
       "\n",
       "    .dataframe tbody tr th {\n",
       "        vertical-align: top;\n",
       "    }\n",
       "\n",
       "    .dataframe thead th {\n",
       "        text-align: right;\n",
       "    }\n",
       "</style>\n",
       "<table border=\"1\" class=\"dataframe\">\n",
       "  <thead>\n",
       "    <tr style=\"text-align: right;\">\n",
       "      <th></th>\n",
       "      <th>Exchange</th>\n",
       "      <th>Symbol</th>\n",
       "      <th>Name</th>\n",
       "      <th>Sector</th>\n",
       "    </tr>\n",
       "  </thead>\n",
       "  <tbody>\n",
       "    <tr>\n",
       "      <th>0</th>\n",
       "      <td>NMS</td>\n",
       "      <td>AAPL</td>\n",
       "      <td>Apple Inc.</td>\n",
       "      <td>Technology</td>\n",
       "    </tr>\n",
       "    <tr>\n",
       "      <th>1</th>\n",
       "      <td>NMS</td>\n",
       "      <td>MSFT</td>\n",
       "      <td>Microsoft Corporation</td>\n",
       "      <td>Technology</td>\n",
       "    </tr>\n",
       "    <tr>\n",
       "      <th>2</th>\n",
       "      <td>NMS</td>\n",
       "      <td>GOOG</td>\n",
       "      <td>Alphabet Inc.</td>\n",
       "      <td>Communication Services</td>\n",
       "    </tr>\n",
       "    <tr>\n",
       "      <th>3</th>\n",
       "      <td>NMS</td>\n",
       "      <td>GOOGL</td>\n",
       "      <td>Alphabet Inc.</td>\n",
       "      <td>Communication Services</td>\n",
       "    </tr>\n",
       "    <tr>\n",
       "      <th>4</th>\n",
       "      <td>NMS</td>\n",
       "      <td>AMZN</td>\n",
       "      <td>Amazon.com, Inc.</td>\n",
       "      <td>Consumer Cyclical</td>\n",
       "    </tr>\n",
       "  </tbody>\n",
       "</table>\n",
       "</div>"
      ],
      "text/plain": [
       "  Exchange Symbol                   Name                  Sector\n",
       "0      NMS   AAPL             Apple Inc.              Technology\n",
       "1      NMS   MSFT  Microsoft Corporation              Technology\n",
       "2      NMS   GOOG          Alphabet Inc.  Communication Services\n",
       "3      NMS  GOOGL          Alphabet Inc.  Communication Services\n",
       "4      NMS   AMZN       Amazon.com, Inc.       Consumer Cyclical"
      ]
     },
     "execution_count": 32,
     "metadata": {},
     "output_type": "execute_result"
    }
   ],
   "source": [
    "# changing the 'shortname' column to name\n",
    "company_data_df = company_data_df.rename(columns={'Shortname':'Name'})\n",
    "company_data_df.head()"
   ]
  },
  {
   "cell_type": "code",
   "execution_count": 21,
   "id": "43179f5e",
   "metadata": {},
   "outputs": [],
   "source": [
    "# company_data_df = company_data_df.drop([\"Ebitda\",\"Marketcap\", \"Revenuegrowth\",\"City\",\"State\",\"Country\",\"Fulltimeemployees\",\"Longbusinesssummary\",\"Weight\"], axis=1)\n",
    "# #checking dropped columns\n",
    "# company_data_df.head(20)"
   ]
  },
  {
   "cell_type": "code",
   "execution_count": 23,
   "id": "3128e97f",
   "metadata": {},
   "outputs": [],
   "source": [
    "# #dropping long name column and current price\n",
    "# company_data_df = company_data_df.drop([\"Longname\",\"Currentprice\"],axis=1)"
   ]
  },
  {
   "cell_type": "code",
   "execution_count": 33,
   "id": "cb30bf72",
   "metadata": {},
   "outputs": [],
   "source": [
    "#export to CSV\n",
    "company_data_df.to_csv(\"companydf_clean.csv\", index=False)\n",
    "stock_data_df.to_csv(\"stockdf_clean.csv\", index=False)"
   ]
  },
  {
   "cell_type": "code",
   "execution_count": null,
   "id": "4a8a8259",
   "metadata": {},
   "outputs": [],
   "source": []
  },
  {
   "cell_type": "code",
   "execution_count": null,
   "id": "8843e187",
   "metadata": {},
   "outputs": [],
   "source": []
  },
  {
   "cell_type": "code",
   "execution_count": null,
   "id": "6435903c",
   "metadata": {},
   "outputs": [],
   "source": []
  }
 ],
 "metadata": {
  "kernelspec": {
   "display_name": "Python 3 (ipykernel)",
   "language": "python",
   "name": "python3"
  },
  "language_info": {
   "codemirror_mode": {
    "name": "ipython",
    "version": 3
   },
   "file_extension": ".py",
   "mimetype": "text/x-python",
   "name": "python",
   "nbconvert_exporter": "python",
   "pygments_lexer": "ipython3",
   "version": "3.9.12"
  }
 },
 "nbformat": 4,
 "nbformat_minor": 5
}
