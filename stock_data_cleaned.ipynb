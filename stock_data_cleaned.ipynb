{
 "cells": [
  {
   "cell_type": "markdown",
   "id": "a316159f",
   "metadata": {},
   "source": [
    "Cleaning Data for visualizations/PostGres/and ML\n",
    "\n",
    "To Do:\n",
    "check column\n",
    "check for NAN values\n",
    "check data types for columns \n",
    "in stock data df \n",
    "drop adjusted close\n",
    "timeline of volume performance\n",
    "in company data cut down to 20 stocks check sector and industries to see how many times represented\n",
    "in company data drop ebitda,marketcap,Marketcap,Ebitda\tRevenuegrowth,City,State,Country,Fulltimeemployees,Longbusinesssummary,Weight\n"
   ]
  },
  {
   "cell_type": "code",
   "execution_count": null,
   "id": "a106ef34",
   "metadata": {},
   "outputs": [],
   "source": [
    "#Importing libraries\n",
    "import pandas as pd\n",
    "import matplotlib.pyplot as plt"
   ]
  },
  {
   "cell_type": "code",
   "execution_count": null,
   "id": "ac6ef6e8",
   "metadata": {},
   "outputs": [],
   "source": [
    "#importing stock data \n",
    "stock_data_df = pd.read_excel('Raw Data/Random 20 S&P500 Stock Data.xlsx')\n",
    "stock_data_df.head(10)"
   ]
  },
  {
   "cell_type": "code",
   "execution_count": null,
   "id": "64e8eee9",
   "metadata": {},
   "outputs": [],
   "source": [
    "#importing company data\n",
    "company_data_df = pd.read_excel('Raw Data/cleaned 20 companies name.xlsx')\n",
    "company_data_df.head()"
   ]
  },
  {
   "cell_type": "code",
   "execution_count": null,
   "id": "09d47ce8",
   "metadata": {},
   "outputs": [],
   "source": [
    "#checking data types\n",
    "stock_data_df.dtypes"
   ]
  },
  {
   "cell_type": "code",
   "execution_count": null,
   "id": "7103a650",
   "metadata": {},
   "outputs": [],
   "source": [
    "#stock data clean up\n",
    "stock_data_df.head()"
   ]
  },
  {
   "cell_type": "code",
   "execution_count": null,
   "id": "ff345792",
   "metadata": {},
   "outputs": [],
   "source": [
    "#checking symbol unique values\n",
    "stock_data_df[\"Symbol\"].unique()"
   ]
  },
  {
   "cell_type": "code",
   "execution_count": null,
   "id": "d1c666fd",
   "metadata": {},
   "outputs": [],
   "source": [
    "#checking for nan values\n",
    "stock_data_df.isnull().sum()"
   ]
  },
  {
   "cell_type": "code",
   "execution_count": null,
   "id": "645b7e99",
   "metadata": {},
   "outputs": [],
   "source": [
    "#Null values confirmed as spacing. Dropping null values\n",
    "stock_data_df.dropna(inplace=True)\n",
    "stock_data_df.isnull().sum()"
   ]
  },
  {
   "cell_type": "code",
   "execution_count": null,
   "id": "d1e66b0b",
   "metadata": {},
   "outputs": [],
   "source": [
    "#dropping Adj Close column\n",
    "stock_data_df = stock_data_df.drop(\"Adj Close\",axis=1)"
   ]
  },
  {
   "cell_type": "code",
   "execution_count": null,
   "id": "c20f5746",
   "metadata": {},
   "outputs": [],
   "source": [
    "#checking dropped column\n",
    "stock_data_df.head()"
   ]
  },
  {
   "cell_type": "code",
   "execution_count": null,
   "id": "b1c8bca8",
   "metadata": {},
   "outputs": [],
   "source": [
    "#dropping company data colummns\n",
    "company_data_df.head()"
   ]
  },
  {
   "cell_type": "code",
   "execution_count": null,
   "id": "ba6235a8",
   "metadata": {},
   "outputs": [],
   "source": [
    "company_data_df = company_data_df.drop([\"Ebitda\",\"Marketcap\", \"Revenuegrowth\",\"City\",\"State\",\"Country\",\"Fulltimeemployees\",\"Longbusinesssummary\",\"Weight\"], axis=1)\n",
    "#checking dropped columns\n",
    "company_data_df.head(20)"
   ]
  },
  {
   "cell_type": "code",
   "execution_count": null,
   "id": "43179f5e",
   "metadata": {},
   "outputs": [],
   "source": [
    "#dropping long name column and current price\n",
    "company_data_df = company_data_df.drop([\"Longname\",\"Currentprice\"],axis=1)"
   ]
  },
  {
   "cell_type": "code",
   "execution_count": null,
   "id": "3128e97f",
   "metadata": {},
   "outputs": [],
   "source": [
    "#checking new df\n",
    "company_data_df.head(10)"
   ]
  },
  {
   "cell_type": "code",
   "execution_count": null,
   "id": "e676aefe",
   "metadata": {},
   "outputs": [],
   "source": [
    "#checking column datatypes\n",
    "company_data_df.dtypes"
   ]
  },
  {
   "cell_type": "code",
   "execution_count": null,
   "id": "72081fc8",
   "metadata": {},
   "outputs": [],
   "source": [
    "#checking company df for null values\n",
    "company_data_df.isnull().sum()"
   ]
  },
  {
   "cell_type": "code",
   "execution_count": null,
   "id": "cb30bf72",
   "metadata": {},
   "outputs": [],
   "source": [
    "#checking size for both df for database storage\n",
    "company_data_df.shape"
   ]
  },
  {
   "cell_type": "code",
   "execution_count": null,
   "id": "4a8a8259",
   "metadata": {},
   "outputs": [],
   "source": [
    "stock_data_df.shape"
   ]
  },
  {
   "cell_type": "code",
   "execution_count": null,
   "id": "8843e187",
   "metadata": {},
   "outputs": [],
   "source": [
    "#basic visualizations for general data understanding\n",
    "x = company_data_df[\"Symbol\"]\n",
    "y = company_data_df[\"Sector\"]\n",
    "\n",
    "plt.bar(x,y)\n",
    "plt.show()"
   ]
  },
  {
   "cell_type": "code",
   "execution_count": null,
   "id": "6435903c",
   "metadata": {},
   "outputs": [],
   "source": []
  }
 ],
 "metadata": {
  "kernelspec": {
   "display_name": "Python 3 (ipykernel)",
   "language": "python",
   "name": "python3"
  },
  "language_info": {
   "codemirror_mode": {
    "name": "ipython",
    "version": 3
   },
   "file_extension": ".py",
   "mimetype": "text/x-python",
   "name": "python",
   "nbconvert_exporter": "python",
   "pygments_lexer": "ipython3",
   "version": "3.9.12"
  }
 },
 "nbformat": 4,
 "nbformat_minor": 5
}
