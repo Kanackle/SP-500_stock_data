{
 "cells": [
  {
   "cell_type": "markdown",
   "id": "a316159f",
   "metadata": {},
   "source": [
    "Cleaning Data for visualizations/PostGres/and ML\n",
    "\n",
    "To Do:\n",
    "check column\n",
    "check for NAN values\n",
    "check data types for columns \n",
    "in stock data df \n",
    "drop adjusted close\n",
    "timeline of volume performance\n",
    "in company data cut down to 20 stocks check sector and industries to see how many times represented\n",
    "in company data drop ebitda,marketcap,Marketcap,Ebitda\tRevenuegrowth,City,State,Country,Fulltimeemployees,Longbusinesssummary,Weigh\n",
    "t\n"
   ]
  },
  {
   "cell_type": "code",
   "execution_count": 2,
   "id": "a106ef34",
   "metadata": {},
   "outputs": [],
   "source": [
    "#Importing libraries\n",
    "import pandas as pd\n",
    "import matplotlib.pyplot as plt\n",
    "import plotly.express as px\n",
    "import plotly.graph_objects as go"
   ]
  },
  {
   "cell_type": "code",
   "execution_count": 3,
   "id": "ac6ef6e8",
   "metadata": {},
   "outputs": [
    {
     "data": {
      "text/html": [
       "<div>\n",
       "<style scoped>\n",
       "    .dataframe tbody tr th:only-of-type {\n",
       "        vertical-align: middle;\n",
       "    }\n",
       "\n",
       "    .dataframe tbody tr th {\n",
       "        vertical-align: top;\n",
       "    }\n",
       "\n",
       "    .dataframe thead th {\n",
       "        text-align: right;\n",
       "    }\n",
       "</style>\n",
       "<table border=\"1\" class=\"dataframe\">\n",
       "  <thead>\n",
       "    <tr style=\"text-align: right;\">\n",
       "      <th></th>\n",
       "      <th>Date</th>\n",
       "      <th>Symbol</th>\n",
       "      <th>Adj Close</th>\n",
       "      <th>Close</th>\n",
       "      <th>High</th>\n",
       "      <th>Low</th>\n",
       "      <th>Open</th>\n",
       "      <th>Volume</th>\n",
       "    </tr>\n",
       "  </thead>\n",
       "  <tbody>\n",
       "    <tr>\n",
       "      <th>0</th>\n",
       "      <td>2022-12-30</td>\n",
       "      <td>ADBE</td>\n",
       "      <td>336.529999</td>\n",
       "      <td>336.529999</td>\n",
       "      <td>336.640015</td>\n",
       "      <td>331.640015</td>\n",
       "      <td>333.000000</td>\n",
       "      <td>1740300.0</td>\n",
       "    </tr>\n",
       "    <tr>\n",
       "      <th>1</th>\n",
       "      <td>2022-12-30</td>\n",
       "      <td>MO</td>\n",
       "      <td>45.709999</td>\n",
       "      <td>45.709999</td>\n",
       "      <td>45.990002</td>\n",
       "      <td>45.419998</td>\n",
       "      <td>45.860001</td>\n",
       "      <td>5025200.0</td>\n",
       "    </tr>\n",
       "    <tr>\n",
       "      <th>2</th>\n",
       "      <td>2022-12-30</td>\n",
       "      <td>AMZN</td>\n",
       "      <td>84.000000</td>\n",
       "      <td>84.000000</td>\n",
       "      <td>84.050003</td>\n",
       "      <td>82.470001</td>\n",
       "      <td>83.120003</td>\n",
       "      <td>62330000.0</td>\n",
       "    </tr>\n",
       "    <tr>\n",
       "      <th>3</th>\n",
       "      <td>2022-12-30</td>\n",
       "      <td>AMD</td>\n",
       "      <td>64.769997</td>\n",
       "      <td>64.769997</td>\n",
       "      <td>64.820000</td>\n",
       "      <td>63.139999</td>\n",
       "      <td>63.770000</td>\n",
       "      <td>37099800.0</td>\n",
       "    </tr>\n",
       "    <tr>\n",
       "      <th>4</th>\n",
       "      <td>2022-12-30</td>\n",
       "      <td>AAL</td>\n",
       "      <td>12.720000</td>\n",
       "      <td>12.720000</td>\n",
       "      <td>12.830000</td>\n",
       "      <td>12.530000</td>\n",
       "      <td>12.550000</td>\n",
       "      <td>18976200.0</td>\n",
       "    </tr>\n",
       "    <tr>\n",
       "      <th>5</th>\n",
       "      <td>2022-12-30</td>\n",
       "      <td>AAPL</td>\n",
       "      <td>129.929993</td>\n",
       "      <td>129.929993</td>\n",
       "      <td>129.949997</td>\n",
       "      <td>127.430000</td>\n",
       "      <td>128.410004</td>\n",
       "      <td>76960600.0</td>\n",
       "    </tr>\n",
       "    <tr>\n",
       "      <th>6</th>\n",
       "      <td>2022-12-30</td>\n",
       "      <td>T</td>\n",
       "      <td>18.410000</td>\n",
       "      <td>18.410000</td>\n",
       "      <td>18.480000</td>\n",
       "      <td>18.219999</td>\n",
       "      <td>18.420000</td>\n",
       "      <td>26200800.0</td>\n",
       "    </tr>\n",
       "    <tr>\n",
       "      <th>7</th>\n",
       "      <td>2022-12-30</td>\n",
       "      <td>BLK</td>\n",
       "      <td>708.630005</td>\n",
       "      <td>708.630005</td>\n",
       "      <td>712.909973</td>\n",
       "      <td>698.359985</td>\n",
       "      <td>708.289978</td>\n",
       "      <td>413000.0</td>\n",
       "    </tr>\n",
       "    <tr>\n",
       "      <th>8</th>\n",
       "      <td>2022-12-30</td>\n",
       "      <td>EA</td>\n",
       "      <td>122.180000</td>\n",
       "      <td>122.180000</td>\n",
       "      <td>122.330002</td>\n",
       "      <td>120.790001</td>\n",
       "      <td>121.779999</td>\n",
       "      <td>1164400.0</td>\n",
       "    </tr>\n",
       "    <tr>\n",
       "      <th>9</th>\n",
       "      <td>2022-12-30</td>\n",
       "      <td>EQIX</td>\n",
       "      <td>655.030029</td>\n",
       "      <td>655.030029</td>\n",
       "      <td>665.349976</td>\n",
       "      <td>648.229981</td>\n",
       "      <td>659.359985</td>\n",
       "      <td>268500.0</td>\n",
       "    </tr>\n",
       "  </tbody>\n",
       "</table>\n",
       "</div>"
      ],
      "text/plain": [
       "        Date Symbol   Adj Close       Close        High         Low  \\\n",
       "0 2022-12-30   ADBE  336.529999  336.529999  336.640015  331.640015   \n",
       "1 2022-12-30     MO   45.709999   45.709999   45.990002   45.419998   \n",
       "2 2022-12-30   AMZN   84.000000   84.000000   84.050003   82.470001   \n",
       "3 2022-12-30    AMD   64.769997   64.769997   64.820000   63.139999   \n",
       "4 2022-12-30    AAL   12.720000   12.720000   12.830000   12.530000   \n",
       "5 2022-12-30   AAPL  129.929993  129.929993  129.949997  127.430000   \n",
       "6 2022-12-30      T   18.410000   18.410000   18.480000   18.219999   \n",
       "7 2022-12-30    BLK  708.630005  708.630005  712.909973  698.359985   \n",
       "8 2022-12-30     EA  122.180000  122.180000  122.330002  120.790001   \n",
       "9 2022-12-30   EQIX  655.030029  655.030029  665.349976  648.229981   \n",
       "\n",
       "         Open      Volume  \n",
       "0  333.000000   1740300.0  \n",
       "1   45.860001   5025200.0  \n",
       "2   83.120003  62330000.0  \n",
       "3   63.770000  37099800.0  \n",
       "4   12.550000  18976200.0  \n",
       "5  128.410004  76960600.0  \n",
       "6   18.420000  26200800.0  \n",
       "7  708.289978    413000.0  \n",
       "8  121.779999   1164400.0  \n",
       "9  659.359985    268500.0  "
      ]
     },
     "execution_count": 3,
     "metadata": {},
     "output_type": "execute_result"
    }
   ],
   "source": [
    "#importing stock data \n",
    "stock_data_df = pd.read_excel('Raw Data/Random 20 S&P500 Stock Data.xlsx')\n",
    "stock_data_df.head(10)"
   ]
  },
  {
   "cell_type": "code",
   "execution_count": 4,
   "id": "64e8eee9",
   "metadata": {},
   "outputs": [
    {
     "data": {
      "text/html": [
       "<div>\n",
       "<style scoped>\n",
       "    .dataframe tbody tr th:only-of-type {\n",
       "        vertical-align: middle;\n",
       "    }\n",
       "\n",
       "    .dataframe tbody tr th {\n",
       "        vertical-align: top;\n",
       "    }\n",
       "\n",
       "    .dataframe thead th {\n",
       "        text-align: right;\n",
       "    }\n",
       "</style>\n",
       "<table border=\"1\" class=\"dataframe\">\n",
       "  <thead>\n",
       "    <tr style=\"text-align: right;\">\n",
       "      <th></th>\n",
       "      <th>Exchange</th>\n",
       "      <th>Symbol</th>\n",
       "      <th>Shortname</th>\n",
       "      <th>Sector</th>\n",
       "      <th>Industry</th>\n",
       "    </tr>\n",
       "  </thead>\n",
       "  <tbody>\n",
       "    <tr>\n",
       "      <th>0</th>\n",
       "      <td>NMS</td>\n",
       "      <td>AAPL</td>\n",
       "      <td>Apple Inc.</td>\n",
       "      <td>Technology</td>\n",
       "      <td>Consumer Electronics</td>\n",
       "    </tr>\n",
       "    <tr>\n",
       "      <th>1</th>\n",
       "      <td>NMS</td>\n",
       "      <td>AMZN</td>\n",
       "      <td>Amazon.com, Inc.</td>\n",
       "      <td>Consumer Cyclical</td>\n",
       "      <td>Internet Retail</td>\n",
       "    </tr>\n",
       "    <tr>\n",
       "      <th>2</th>\n",
       "      <td>NYQ</td>\n",
       "      <td>JPM</td>\n",
       "      <td>JP Morgan Chase &amp; Co.</td>\n",
       "      <td>Financial Services</td>\n",
       "      <td>Banks鈥擠iversified</td>\n",
       "    </tr>\n",
       "    <tr>\n",
       "      <th>3</th>\n",
       "      <td>NMS</td>\n",
       "      <td>ADBE</td>\n",
       "      <td>Adobe Inc.</td>\n",
       "      <td>Technology</td>\n",
       "      <td>Software鈥擨nfrastructure</td>\n",
       "    </tr>\n",
       "    <tr>\n",
       "      <th>4</th>\n",
       "      <td>NYQ</td>\n",
       "      <td>T</td>\n",
       "      <td>AT&amp;T Inc.</td>\n",
       "      <td>Communication Services</td>\n",
       "      <td>Telecom Services</td>\n",
       "    </tr>\n",
       "  </tbody>\n",
       "</table>\n",
       "</div>"
      ],
      "text/plain": [
       "  Exchange Symbol              Shortname                  Sector  \\\n",
       "0      NMS   AAPL             Apple Inc.              Technology   \n",
       "1      NMS   AMZN       Amazon.com, Inc.       Consumer Cyclical   \n",
       "2      NYQ    JPM  JP Morgan Chase & Co.      Financial Services   \n",
       "3      NMS   ADBE             Adobe Inc.              Technology   \n",
       "4      NYQ      T              AT&T Inc.  Communication Services   \n",
       "\n",
       "                  Industry  \n",
       "0     Consumer Electronics  \n",
       "1          Internet Retail  \n",
       "2        Banks鈥擠iversified  \n",
       "3  Software鈥擨nfrastructure  \n",
       "4         Telecom Services  "
      ]
     },
     "execution_count": 4,
     "metadata": {},
     "output_type": "execute_result"
    }
   ],
   "source": [
    "#importing company data\n",
    "company_data_df = pd.read_excel('Raw Data/cleaned 20 companies name.xlsx')\n",
    "company_data_df.head()"
   ]
  },
  {
   "cell_type": "code",
   "execution_count": 5,
   "id": "09d47ce8",
   "metadata": {},
   "outputs": [
    {
     "data": {
      "text/plain": [
       "Date         datetime64[ns]\n",
       "Symbol               object\n",
       "Adj Close           float64\n",
       "Close               float64\n",
       "High                float64\n",
       "Low                 float64\n",
       "Open                float64\n",
       "Volume              float64\n",
       "dtype: object"
      ]
     },
     "execution_count": 5,
     "metadata": {},
     "output_type": "execute_result"
    }
   ],
   "source": [
    "#checking data types\n",
    "stock_data_df.dtypes"
   ]
  },
  {
   "cell_type": "code",
   "execution_count": 6,
   "id": "7103a650",
   "metadata": {},
   "outputs": [
    {
     "data": {
      "text/html": [
       "<div>\n",
       "<style scoped>\n",
       "    .dataframe tbody tr th:only-of-type {\n",
       "        vertical-align: middle;\n",
       "    }\n",
       "\n",
       "    .dataframe tbody tr th {\n",
       "        vertical-align: top;\n",
       "    }\n",
       "\n",
       "    .dataframe thead th {\n",
       "        text-align: right;\n",
       "    }\n",
       "</style>\n",
       "<table border=\"1\" class=\"dataframe\">\n",
       "  <thead>\n",
       "    <tr style=\"text-align: right;\">\n",
       "      <th></th>\n",
       "      <th>Date</th>\n",
       "      <th>Symbol</th>\n",
       "      <th>Adj Close</th>\n",
       "      <th>Close</th>\n",
       "      <th>High</th>\n",
       "      <th>Low</th>\n",
       "      <th>Open</th>\n",
       "      <th>Volume</th>\n",
       "    </tr>\n",
       "  </thead>\n",
       "  <tbody>\n",
       "    <tr>\n",
       "      <th>0</th>\n",
       "      <td>2022-12-30</td>\n",
       "      <td>ADBE</td>\n",
       "      <td>336.529999</td>\n",
       "      <td>336.529999</td>\n",
       "      <td>336.640015</td>\n",
       "      <td>331.640015</td>\n",
       "      <td>333.000000</td>\n",
       "      <td>1740300.0</td>\n",
       "    </tr>\n",
       "    <tr>\n",
       "      <th>1</th>\n",
       "      <td>2022-12-30</td>\n",
       "      <td>MO</td>\n",
       "      <td>45.709999</td>\n",
       "      <td>45.709999</td>\n",
       "      <td>45.990002</td>\n",
       "      <td>45.419998</td>\n",
       "      <td>45.860001</td>\n",
       "      <td>5025200.0</td>\n",
       "    </tr>\n",
       "    <tr>\n",
       "      <th>2</th>\n",
       "      <td>2022-12-30</td>\n",
       "      <td>AMZN</td>\n",
       "      <td>84.000000</td>\n",
       "      <td>84.000000</td>\n",
       "      <td>84.050003</td>\n",
       "      <td>82.470001</td>\n",
       "      <td>83.120003</td>\n",
       "      <td>62330000.0</td>\n",
       "    </tr>\n",
       "    <tr>\n",
       "      <th>3</th>\n",
       "      <td>2022-12-30</td>\n",
       "      <td>AMD</td>\n",
       "      <td>64.769997</td>\n",
       "      <td>64.769997</td>\n",
       "      <td>64.820000</td>\n",
       "      <td>63.139999</td>\n",
       "      <td>63.770000</td>\n",
       "      <td>37099800.0</td>\n",
       "    </tr>\n",
       "    <tr>\n",
       "      <th>4</th>\n",
       "      <td>2022-12-30</td>\n",
       "      <td>AAL</td>\n",
       "      <td>12.720000</td>\n",
       "      <td>12.720000</td>\n",
       "      <td>12.830000</td>\n",
       "      <td>12.530000</td>\n",
       "      <td>12.550000</td>\n",
       "      <td>18976200.0</td>\n",
       "    </tr>\n",
       "  </tbody>\n",
       "</table>\n",
       "</div>"
      ],
      "text/plain": [
       "        Date Symbol   Adj Close       Close        High         Low  \\\n",
       "0 2022-12-30   ADBE  336.529999  336.529999  336.640015  331.640015   \n",
       "1 2022-12-30     MO   45.709999   45.709999   45.990002   45.419998   \n",
       "2 2022-12-30   AMZN   84.000000   84.000000   84.050003   82.470001   \n",
       "3 2022-12-30    AMD   64.769997   64.769997   64.820000   63.139999   \n",
       "4 2022-12-30    AAL   12.720000   12.720000   12.830000   12.530000   \n",
       "\n",
       "         Open      Volume  \n",
       "0  333.000000   1740300.0  \n",
       "1   45.860001   5025200.0  \n",
       "2   83.120003  62330000.0  \n",
       "3   63.770000  37099800.0  \n",
       "4   12.550000  18976200.0  "
      ]
     },
     "execution_count": 6,
     "metadata": {},
     "output_type": "execute_result"
    }
   ],
   "source": [
    "#stock data clean up in the rows that follow\n",
    "stock_data_df.head()"
   ]
  },
  {
   "cell_type": "code",
   "execution_count": 7,
   "id": "ff345792",
   "metadata": {},
   "outputs": [
    {
     "data": {
      "text/plain": [
       "array(['ADBE', 'MO', 'AMZN', 'AMD', 'AAL', 'AAPL', 'T', 'BLK', 'EA',\n",
       "       'EQIX', 'ABC', 'JPM', 'MU', nan, 'F', 'GD', 'GPN', 'GS', 'HCA',\n",
       "       'HSY', 'IBM'], dtype=object)"
      ]
     },
     "execution_count": 7,
     "metadata": {},
     "output_type": "execute_result"
    }
   ],
   "source": [
    "#checking symbol unique values\n",
    "unique_symbols = stock_data_df[\"Symbol\"].unique()\n",
    "unique_symbols"
   ]
  },
  {
   "cell_type": "code",
   "execution_count": 8,
   "id": "d1c666fd",
   "metadata": {},
   "outputs": [
    {
     "data": {
      "text/plain": [
       "Date         2629\n",
       "Symbol       2629\n",
       "Adj Close    2629\n",
       "Close        2629\n",
       "High         2629\n",
       "Low          2629\n",
       "Open         2629\n",
       "Volume       2629\n",
       "dtype: int64"
      ]
     },
     "execution_count": 8,
     "metadata": {},
     "output_type": "execute_result"
    }
   ],
   "source": [
    "#checking for nan values\n",
    "stock_data_df.isnull().sum()"
   ]
  },
  {
   "cell_type": "code",
   "execution_count": 9,
   "id": "645b7e99",
   "metadata": {},
   "outputs": [
    {
     "data": {
      "text/plain": [
       "Date         0\n",
       "Symbol       0\n",
       "Adj Close    0\n",
       "Close        0\n",
       "High         0\n",
       "Low          0\n",
       "Open         0\n",
       "Volume       0\n",
       "dtype: int64"
      ]
     },
     "execution_count": 9,
     "metadata": {},
     "output_type": "execute_result"
    }
   ],
   "source": [
    "#Null values confirmed as spacing. Dropping the null values\n",
    "stock_data_df.dropna(inplace=True)\n",
    "stock_data_df.isnull().sum()"
   ]
  },
  {
   "cell_type": "code",
   "execution_count": null,
   "id": "d1e66b0b",
   "metadata": {},
   "outputs": [],
   "source": [
    "#dropping Adj Close column since it is a very close duplicate of the closing price column\n",
    "stock_data_df = stock_data_df.drop(\"Adj Close\",axis=1)"
   ]
  },
  {
   "cell_type": "code",
   "execution_count": 13,
   "id": "c20f5746",
   "metadata": {},
   "outputs": [
    {
     "data": {
      "text/html": [
       "<div>\n",
       "<style scoped>\n",
       "    .dataframe tbody tr th:only-of-type {\n",
       "        vertical-align: middle;\n",
       "    }\n",
       "\n",
       "    .dataframe tbody tr th {\n",
       "        vertical-align: top;\n",
       "    }\n",
       "\n",
       "    .dataframe thead th {\n",
       "        text-align: right;\n",
       "    }\n",
       "</style>\n",
       "<table border=\"1\" class=\"dataframe\">\n",
       "  <thead>\n",
       "    <tr style=\"text-align: right;\">\n",
       "      <th></th>\n",
       "      <th>Date</th>\n",
       "      <th>Symbol</th>\n",
       "      <th>Close</th>\n",
       "      <th>High</th>\n",
       "      <th>Low</th>\n",
       "      <th>Open</th>\n",
       "      <th>Volume</th>\n",
       "    </tr>\n",
       "  </thead>\n",
       "  <tbody>\n",
       "    <tr>\n",
       "      <th>0</th>\n",
       "      <td>2022-12-30</td>\n",
       "      <td>ADBE</td>\n",
       "      <td>336.529999</td>\n",
       "      <td>336.640015</td>\n",
       "      <td>331.640015</td>\n",
       "      <td>333.000000</td>\n",
       "      <td>1740300.0</td>\n",
       "    </tr>\n",
       "    <tr>\n",
       "      <th>1</th>\n",
       "      <td>2022-12-30</td>\n",
       "      <td>MO</td>\n",
       "      <td>45.709999</td>\n",
       "      <td>45.990002</td>\n",
       "      <td>45.419998</td>\n",
       "      <td>45.860001</td>\n",
       "      <td>5025200.0</td>\n",
       "    </tr>\n",
       "    <tr>\n",
       "      <th>2</th>\n",
       "      <td>2022-12-30</td>\n",
       "      <td>AMZN</td>\n",
       "      <td>84.000000</td>\n",
       "      <td>84.050003</td>\n",
       "      <td>82.470001</td>\n",
       "      <td>83.120003</td>\n",
       "      <td>62330000.0</td>\n",
       "    </tr>\n",
       "    <tr>\n",
       "      <th>3</th>\n",
       "      <td>2022-12-30</td>\n",
       "      <td>AMD</td>\n",
       "      <td>64.769997</td>\n",
       "      <td>64.820000</td>\n",
       "      <td>63.139999</td>\n",
       "      <td>63.770000</td>\n",
       "      <td>37099800.0</td>\n",
       "    </tr>\n",
       "    <tr>\n",
       "      <th>4</th>\n",
       "      <td>2022-12-30</td>\n",
       "      <td>AAL</td>\n",
       "      <td>12.720000</td>\n",
       "      <td>12.830000</td>\n",
       "      <td>12.530000</td>\n",
       "      <td>12.550000</td>\n",
       "      <td>18976200.0</td>\n",
       "    </tr>\n",
       "  </tbody>\n",
       "</table>\n",
       "</div>"
      ],
      "text/plain": [
       "        Date Symbol       Close        High         Low        Open  \\\n",
       "0 2022-12-30   ADBE  336.529999  336.640015  331.640015  333.000000   \n",
       "1 2022-12-30     MO   45.709999   45.990002   45.419998   45.860001   \n",
       "2 2022-12-30   AMZN   84.000000   84.050003   82.470001   83.120003   \n",
       "3 2022-12-30    AMD   64.769997   64.820000   63.139999   63.770000   \n",
       "4 2022-12-30    AAL   12.720000   12.830000   12.530000   12.550000   \n",
       "\n",
       "       Volume  \n",
       "0   1740300.0  \n",
       "1   5025200.0  \n",
       "2  62330000.0  \n",
       "3  37099800.0  \n",
       "4  18976200.0  "
      ]
     },
     "execution_count": 13,
     "metadata": {},
     "output_type": "execute_result"
    }
   ],
   "source": [
    "#checking to make sure column dropped correctly \n",
    "stock_data_df.head()"
   ]
  },
  {
   "cell_type": "code",
   "execution_count": 14,
   "id": "b1c8bca8",
   "metadata": {},
   "outputs": [
    {
     "data": {
      "text/html": [
       "<div>\n",
       "<style scoped>\n",
       "    .dataframe tbody tr th:only-of-type {\n",
       "        vertical-align: middle;\n",
       "    }\n",
       "\n",
       "    .dataframe tbody tr th {\n",
       "        vertical-align: top;\n",
       "    }\n",
       "\n",
       "    .dataframe thead th {\n",
       "        text-align: right;\n",
       "    }\n",
       "</style>\n",
       "<table border=\"1\" class=\"dataframe\">\n",
       "  <thead>\n",
       "    <tr style=\"text-align: right;\">\n",
       "      <th></th>\n",
       "      <th>Exchange</th>\n",
       "      <th>Symbol</th>\n",
       "      <th>Shortname</th>\n",
       "      <th>Sector</th>\n",
       "      <th>Industry</th>\n",
       "    </tr>\n",
       "  </thead>\n",
       "  <tbody>\n",
       "    <tr>\n",
       "      <th>0</th>\n",
       "      <td>NMS</td>\n",
       "      <td>AAPL</td>\n",
       "      <td>Apple Inc.</td>\n",
       "      <td>Technology</td>\n",
       "      <td>Consumer Electronics</td>\n",
       "    </tr>\n",
       "    <tr>\n",
       "      <th>1</th>\n",
       "      <td>NMS</td>\n",
       "      <td>AMZN</td>\n",
       "      <td>Amazon.com, Inc.</td>\n",
       "      <td>Consumer Cyclical</td>\n",
       "      <td>Internet Retail</td>\n",
       "    </tr>\n",
       "    <tr>\n",
       "      <th>2</th>\n",
       "      <td>NYQ</td>\n",
       "      <td>JPM</td>\n",
       "      <td>JP Morgan Chase &amp; Co.</td>\n",
       "      <td>Financial Services</td>\n",
       "      <td>Banks鈥擠iversified</td>\n",
       "    </tr>\n",
       "    <tr>\n",
       "      <th>3</th>\n",
       "      <td>NMS</td>\n",
       "      <td>ADBE</td>\n",
       "      <td>Adobe Inc.</td>\n",
       "      <td>Technology</td>\n",
       "      <td>Software鈥擨nfrastructure</td>\n",
       "    </tr>\n",
       "    <tr>\n",
       "      <th>4</th>\n",
       "      <td>NYQ</td>\n",
       "      <td>T</td>\n",
       "      <td>AT&amp;T Inc.</td>\n",
       "      <td>Communication Services</td>\n",
       "      <td>Telecom Services</td>\n",
       "    </tr>\n",
       "  </tbody>\n",
       "</table>\n",
       "</div>"
      ],
      "text/plain": [
       "  Exchange Symbol              Shortname                  Sector  \\\n",
       "0      NMS   AAPL             Apple Inc.              Technology   \n",
       "1      NMS   AMZN       Amazon.com, Inc.       Consumer Cyclical   \n",
       "2      NYQ    JPM  JP Morgan Chase & Co.      Financial Services   \n",
       "3      NMS   ADBE             Adobe Inc.              Technology   \n",
       "4      NYQ      T              AT&T Inc.  Communication Services   \n",
       "\n",
       "                  Industry  \n",
       "0     Consumer Electronics  \n",
       "1          Internet Retail  \n",
       "2        Banks鈥擠iversified  \n",
       "3  Software鈥擨nfrastructure  \n",
       "4         Telecom Services  "
      ]
     },
     "execution_count": 14,
     "metadata": {},
     "output_type": "execute_result"
    }
   ],
   "source": [
    "#dropping company data colummns\n",
    "company_data_df.head()"
   ]
  },
  {
   "cell_type": "code",
   "execution_count": 12,
   "id": "ba6235a8",
   "metadata": {},
   "outputs": [],
   "source": [
    "#dropping uneeded columns\n",
    "#company_data_df = company_data_df.drop([\"Ebitda\",\"Marketcap\", \"Revenuegrowth\",\"City\",\"State\",\"Country\",\"Fulltimeemployees\",\"Longbusinesssummary\",\"Weight\"], axis=1)"
   ]
  },
  {
   "cell_type": "code",
   "execution_count": 13,
   "id": "43179f5e",
   "metadata": {},
   "outputs": [],
   "source": [
    "#dropping long name column and current price\n",
    "#company_data_df = company_data_df.drop([\"Longname\",\"Currentprice\"],axis=1)"
   ]
  },
  {
   "cell_type": "code",
   "execution_count": 15,
   "id": "3128e97f",
   "metadata": {},
   "outputs": [
    {
     "data": {
      "text/html": [
       "<div>\n",
       "<style scoped>\n",
       "    .dataframe tbody tr th:only-of-type {\n",
       "        vertical-align: middle;\n",
       "    }\n",
       "\n",
       "    .dataframe tbody tr th {\n",
       "        vertical-align: top;\n",
       "    }\n",
       "\n",
       "    .dataframe thead th {\n",
       "        text-align: right;\n",
       "    }\n",
       "</style>\n",
       "<table border=\"1\" class=\"dataframe\">\n",
       "  <thead>\n",
       "    <tr style=\"text-align: right;\">\n",
       "      <th></th>\n",
       "      <th>Exchange</th>\n",
       "      <th>Symbol</th>\n",
       "      <th>Shortname</th>\n",
       "      <th>Sector</th>\n",
       "      <th>Industry</th>\n",
       "    </tr>\n",
       "  </thead>\n",
       "  <tbody>\n",
       "    <tr>\n",
       "      <th>0</th>\n",
       "      <td>NMS</td>\n",
       "      <td>AAPL</td>\n",
       "      <td>Apple Inc.</td>\n",
       "      <td>Technology</td>\n",
       "      <td>Consumer Electronics</td>\n",
       "    </tr>\n",
       "    <tr>\n",
       "      <th>1</th>\n",
       "      <td>NMS</td>\n",
       "      <td>AMZN</td>\n",
       "      <td>Amazon.com, Inc.</td>\n",
       "      <td>Consumer Cyclical</td>\n",
       "      <td>Internet Retail</td>\n",
       "    </tr>\n",
       "    <tr>\n",
       "      <th>2</th>\n",
       "      <td>NYQ</td>\n",
       "      <td>JPM</td>\n",
       "      <td>JP Morgan Chase &amp; Co.</td>\n",
       "      <td>Financial Services</td>\n",
       "      <td>Banks鈥擠iversified</td>\n",
       "    </tr>\n",
       "    <tr>\n",
       "      <th>3</th>\n",
       "      <td>NMS</td>\n",
       "      <td>ADBE</td>\n",
       "      <td>Adobe Inc.</td>\n",
       "      <td>Technology</td>\n",
       "      <td>Software鈥擨nfrastructure</td>\n",
       "    </tr>\n",
       "    <tr>\n",
       "      <th>4</th>\n",
       "      <td>NYQ</td>\n",
       "      <td>T</td>\n",
       "      <td>AT&amp;T Inc.</td>\n",
       "      <td>Communication Services</td>\n",
       "      <td>Telecom Services</td>\n",
       "    </tr>\n",
       "    <tr>\n",
       "      <th>5</th>\n",
       "      <td>NYQ</td>\n",
       "      <td>IBM</td>\n",
       "      <td>International Business Machines</td>\n",
       "      <td>Technology</td>\n",
       "      <td>Information Technology Services</td>\n",
       "    </tr>\n",
       "    <tr>\n",
       "      <th>6</th>\n",
       "      <td>NYQ</td>\n",
       "      <td>GS</td>\n",
       "      <td>Goldman Sachs Group, Inc. (The)</td>\n",
       "      <td>Financial Services</td>\n",
       "      <td>Capital Markets</td>\n",
       "    </tr>\n",
       "    <tr>\n",
       "      <th>7</th>\n",
       "      <td>NMS</td>\n",
       "      <td>AMD</td>\n",
       "      <td>Advanced Micro Devices, Inc.</td>\n",
       "      <td>Technology</td>\n",
       "      <td>Semiconductors</td>\n",
       "    </tr>\n",
       "    <tr>\n",
       "      <th>8</th>\n",
       "      <td>NYQ</td>\n",
       "      <td>BLK</td>\n",
       "      <td>BlackRock, Inc.</td>\n",
       "      <td>Financial Services</td>\n",
       "      <td>Asset Management</td>\n",
       "    </tr>\n",
       "    <tr>\n",
       "      <th>9</th>\n",
       "      <td>NYQ</td>\n",
       "      <td>HCA</td>\n",
       "      <td>HCA Healthcare, Inc.</td>\n",
       "      <td>Healthcare</td>\n",
       "      <td>Medical Care Facilities</td>\n",
       "    </tr>\n",
       "  </tbody>\n",
       "</table>\n",
       "</div>"
      ],
      "text/plain": [
       "  Exchange Symbol                        Shortname                  Sector  \\\n",
       "0      NMS   AAPL                       Apple Inc.              Technology   \n",
       "1      NMS   AMZN                 Amazon.com, Inc.       Consumer Cyclical   \n",
       "2      NYQ    JPM            JP Morgan Chase & Co.      Financial Services   \n",
       "3      NMS   ADBE                       Adobe Inc.              Technology   \n",
       "4      NYQ      T                        AT&T Inc.  Communication Services   \n",
       "5      NYQ    IBM  International Business Machines              Technology   \n",
       "6      NYQ     GS  Goldman Sachs Group, Inc. (The)      Financial Services   \n",
       "7      NMS    AMD     Advanced Micro Devices, Inc.              Technology   \n",
       "8      NYQ    BLK                  BlackRock, Inc.      Financial Services   \n",
       "9      NYQ    HCA             HCA Healthcare, Inc.              Healthcare   \n",
       "\n",
       "                          Industry  \n",
       "0             Consumer Electronics  \n",
       "1                  Internet Retail  \n",
       "2                Banks鈥擠iversified  \n",
       "3          Software鈥擨nfrastructure  \n",
       "4                 Telecom Services  \n",
       "5  Information Technology Services  \n",
       "6                  Capital Markets  \n",
       "7                   Semiconductors  \n",
       "8                 Asset Management  \n",
       "9          Medical Care Facilities  "
      ]
     },
     "execution_count": 15,
     "metadata": {},
     "output_type": "execute_result"
    }
   ],
   "source": [
    "#checking new df\n",
    "company_data_df.head(10)"
   ]
  },
  {
   "cell_type": "code",
   "execution_count": 16,
   "id": "0359d3e5",
   "metadata": {},
   "outputs": [
    {
     "data": {
      "text/plain": [
       "Exchange     object\n",
       "Symbol       object\n",
       "Shortname    object\n",
       "Sector       object\n",
       "Industry     object\n",
       "dtype: object"
      ]
     },
     "execution_count": 16,
     "metadata": {},
     "output_type": "execute_result"
    }
   ],
   "source": [
    "#checking column datatypes\n",
    "company_data_df.dtypes"
   ]
  },
  {
   "cell_type": "code",
   "execution_count": 17,
   "id": "72081fc8",
   "metadata": {},
   "outputs": [
    {
     "data": {
      "text/plain": [
       "Exchange     0\n",
       "Symbol       0\n",
       "Shortname    0\n",
       "Sector       0\n",
       "Industry     0\n",
       "dtype: int64"
      ]
     },
     "execution_count": 17,
     "metadata": {},
     "output_type": "execute_result"
    }
   ],
   "source": [
    "#checking company df for null values\n",
    "company_data_df.isnull().sum()"
   ]
  },
  {
   "cell_type": "code",
   "execution_count": 18,
   "id": "cb30bf72",
   "metadata": {},
   "outputs": [
    {
     "data": {
      "text/plain": [
       "(20, 5)"
      ]
     },
     "execution_count": 18,
     "metadata": {},
     "output_type": "execute_result"
    }
   ],
   "source": [
    "#checking size for both df for database storage\n",
    "company_data_df.shape"
   ]
  },
  {
   "cell_type": "code",
   "execution_count": 19,
   "id": "4a8a8259",
   "metadata": {},
   "outputs": [
    {
     "data": {
      "text/plain": [
       "(52730, 7)"
      ]
     },
     "execution_count": 19,
     "metadata": {},
     "output_type": "execute_result"
    }
   ],
   "source": [
    "stock_data_df.shape"
   ]
  },
  {
   "cell_type": "code",
   "execution_count": 20,
   "id": "611234af",
   "metadata": {},
   "outputs": [
    {
     "data": {
      "text/plain": [
       "Sector\n",
       "Communication Services    2\n",
       "Consumer Cyclical         2\n",
       "Consumer Defensive        2\n",
       "Financial Services        3\n",
       "Healthcare                2\n",
       "Industrials               3\n",
       "Real Estate               1\n",
       "Technology                5\n",
       "Name: Symbol, dtype: int64"
      ]
     },
     "execution_count": 20,
     "metadata": {},
     "output_type": "execute_result"
    }
   ],
   "source": [
    "#How many different sectors do we have in our random 20 pick?\n",
    "sector_amount = company_data_df.groupby([\"Sector\"]).count()[\"Symbol\"]\n",
    "sector_amount"
   ]
  },
  {
   "cell_type": "code",
   "execution_count": 21,
   "id": "ddc7cdc5",
   "metadata": {},
   "outputs": [
    {
     "data": {
      "text/plain": [
       "Industry\n",
       "Aerospace & Defense                1\n",
       "Airlines                           1\n",
       "Asset Management                   1\n",
       "Auto Manufacturers                 1\n",
       "Banks鈥擠iversified                  1\n",
       "Capital Markets                    1\n",
       "Confectioners                      1\n",
       "Consumer Electronics               1\n",
       "Electronic Gaming & Multimedia     1\n",
       "Information Technology Services    1\n",
       "Internet Retail                    1\n",
       "Medical Care Facilities            1\n",
       "Medical Distribution               1\n",
       "REIT鈥擲pecialty                     1\n",
       "Semiconductors                     2\n",
       "Software鈥擨nfrastructure            1\n",
       "Specialty Business Services        1\n",
       "Telecom Services                   1\n",
       "Tobacco                            1\n",
       "Name: Symbol, dtype: int64"
      ]
     },
     "execution_count": 21,
     "metadata": {},
     "output_type": "execute_result"
    }
   ],
   "source": [
    "#How many different industries? \n",
    "industry_count = company_data_df.groupby([\"Industry\"]).count()[\"Symbol\"]\n",
    "industry_count.head(20)"
   ]
  },
  {
   "cell_type": "code",
   "execution_count": 22,
   "id": "deb6cda3",
   "metadata": {},
   "outputs": [
    {
     "data": {
      "text/plain": [
       "Symbol\n",
       "AAL      30.185787\n",
       "AAPL     53.898855\n",
       "ABC      88.848168\n",
       "ADBE    207.179605\n",
       "AMD      28.259612\n",
       "AMZN     65.779927\n",
       "BLK     437.345855\n",
       "EA       80.928053\n",
       "EQIX    410.577556\n",
       "F        12.449593\n",
       "GD      149.762727\n",
       "GPN      93.830867\n",
       "GS      210.180890\n",
       "HCA     101.399273\n",
       "HSY     114.510829\n",
       "IBM     149.904635\n",
       "JPM      88.005787\n",
       "MO       49.620156\n",
       "MU       35.979669\n",
       "T        25.526337\n",
       "Name: Close, dtype: float64"
      ]
     },
     "execution_count": 22,
     "metadata": {},
     "output_type": "execute_result"
    }
   ],
   "source": [
    "#Average stock performance based on symbol\n",
    "avg_stock = stock_data_df.groupby([\"Symbol\"]).mean()[\"Close\"]\n",
    "avg_stock"
   ]
  },
  {
   "cell_type": "code",
   "execution_count": null,
   "id": "8843e187",
   "metadata": {},
   "outputs": [],
   "source": []
  },
  {
   "cell_type": "code",
   "execution_count": null,
   "id": "ef79b105",
   "metadata": {},
   "outputs": [],
   "source": []
  },
  {
   "cell_type": "code",
   "execution_count": null,
   "id": "cac8ae72",
   "metadata": {},
   "outputs": [],
   "source": []
  },
  {
   "cell_type": "code",
   "execution_count": null,
   "id": "a8880bc3",
   "metadata": {},
   "outputs": [],
   "source": []
  },
  {
   "cell_type": "code",
   "execution_count": null,
   "id": "4064aeef",
   "metadata": {},
   "outputs": [],
   "source": []
  },
  {
   "cell_type": "code",
   "execution_count": null,
   "id": "29d0a9b8",
   "metadata": {},
   "outputs": [],
   "source": []
  },
  {
   "cell_type": "code",
   "execution_count": null,
   "id": "dbe34c1f",
   "metadata": {},
   "outputs": [],
   "source": []
  },
  {
   "cell_type": "code",
   "execution_count": null,
   "id": "6435903c",
   "metadata": {},
   "outputs": [],
   "source": []
  }
 ],
 "metadata": {
  "kernelspec": {
   "display_name": "Python 3 (ipykernel)",
   "language": "python",
   "name": "python3"
  },
  "language_info": {
   "codemirror_mode": {
    "name": "ipython",
    "version": 3
   },
   "file_extension": ".py",
   "mimetype": "text/x-python",
   "name": "python",
   "nbconvert_exporter": "python",
   "pygments_lexer": "ipython3",
   "version": "3.9.12"
  }
 },
 "nbformat": 4,
 "nbformat_minor": 5
}
